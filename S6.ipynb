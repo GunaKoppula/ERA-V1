{
 "cells": [
  {
   "cell_type": "code",
   "execution_count": 1,
   "metadata": {},
   "outputs": [],
   "source": [
    "from __future__ import print_function\n",
    "import torch\n",
    "import torch.nn as nn\n",
    "import torch.nn.functional as F\n",
    "import torch.optim as optim\n",
    "from torchvision import datasets, transforms"
   ]
  },
  {
   "cell_type": "code",
   "execution_count": 11,
   "metadata": {},
   "outputs": [],
   "source": [
    "class Net(nn.Module):\n",
    "    def __init__(self):\n",
    "        super(Net, self).__init__()\n",
    "        \n",
    "        self.conv1 = nn.Conv2d(1, 8, 3, padding=1)\n",
    "        self.batch_1 = nn.BatchNorm2d(8)\n",
    "        self.drop_1 = nn.Dropout(0.25)\n",
    "        self.pool1 = nn.MaxPool2d(2, 2)\n",
    "        \n",
    "        self.conv2 = nn.Conv2d(8, 16, 3, padding=1)\n",
    "        self.batch_2 = nn.BatchNorm2d(16)\n",
    "        self.drop_2 = nn.Dropout(0.25)\n",
    "        self.pool2 = nn.MaxPool2d(2, 2)\n",
    "\n",
    "\n",
    "        self.conv3 = nn.Conv2d(16, 16, 3, padding=1)\n",
    "        self.batch_3 = nn.BatchNorm2d(16)\n",
    "        self.drop_3 = nn.Dropout(0.2)\n",
    "        \n",
    "        self.conv4 = nn.Conv2d(16,32, 3, padding=1)\n",
    "        self.batch_4 = nn.BatchNorm2d(32)\n",
    "        self.drop_4 = nn.Dropout(0.2)\n",
    "        \n",
    "        \n",
    "        self.conv5 = nn.Conv2d(32,16,3, padding=1)\n",
    "        self.batch_5 = nn.BatchNorm2d(16)\n",
    "        self.drop_5 = nn.Dropout(0.1)\n",
    "        \n",
    "        self.conv6 = nn.Conv2d(16, 10, 1)\n",
    "        self.batch_5 = nn.BatchNorm2d(16)\n",
    "        self.drop_5 = nn.Dropout(0.2)\n",
    "        \n",
    "        self.conv7 = nn.Conv2d(10,10,7)\n",
    "\n",
    "    def forward(self, x):\n",
    "        x = self.pool1(self.drop_1((F.relu(self.batch_1(self.conv1(x))))))                      \n",
    "        x = self.pool2(self.drop_2(F.relu(self.batch_2(self.conv2(x)))))       \n",
    "        x = self.drop_3(F.relu(self.batch_3((self.conv3(x)))))        \n",
    "        x = self.drop_4(F.relu(self.batch_4((self.conv4(x)))))        \n",
    "        x = self.drop_5(F.relu(self.batch_5((self.conv5(x)))))       \n",
    "        x = F.relu(self.conv6(x))       \n",
    "        x = self.conv7(x)\n",
    "        \n",
    "        x = x.view(-1, 10)\n",
    "        return F.log_softmax(x)"
   ]
  },
  {
   "cell_type": "code",
   "execution_count": 12,
   "metadata": {},
   "outputs": [
    {
     "name": "stdout",
     "output_type": "stream",
     "text": [
      "----------------------------------------------------------------\n",
      "        Layer (type)               Output Shape         Param #\n",
      "================================================================\n",
      "            Conv2d-1            [-1, 8, 28, 28]              80\n",
      "       BatchNorm2d-2            [-1, 8, 28, 28]              16\n",
      "           Dropout-3            [-1, 8, 28, 28]               0\n",
      "         MaxPool2d-4            [-1, 8, 14, 14]               0\n",
      "            Conv2d-5           [-1, 16, 14, 14]           1,168\n",
      "       BatchNorm2d-6           [-1, 16, 14, 14]              32\n",
      "           Dropout-7           [-1, 16, 14, 14]               0\n",
      "         MaxPool2d-8             [-1, 16, 7, 7]               0\n",
      "            Conv2d-9             [-1, 16, 7, 7]           2,320\n",
      "      BatchNorm2d-10             [-1, 16, 7, 7]              32\n",
      "          Dropout-11             [-1, 16, 7, 7]               0\n",
      "           Conv2d-12             [-1, 32, 7, 7]           4,640\n",
      "      BatchNorm2d-13             [-1, 32, 7, 7]              64\n",
      "          Dropout-14             [-1, 32, 7, 7]               0\n",
      "           Conv2d-15             [-1, 16, 7, 7]           4,624\n",
      "      BatchNorm2d-16             [-1, 16, 7, 7]              32\n",
      "          Dropout-17             [-1, 16, 7, 7]               0\n",
      "           Conv2d-18             [-1, 10, 7, 7]             170\n",
      "           Conv2d-19             [-1, 10, 1, 1]           4,910\n",
      "================================================================\n",
      "Total params: 18,088\n",
      "Trainable params: 18,088\n",
      "Non-trainable params: 0\n",
      "----------------------------------------------------------------\n",
      "Input size (MB): 0.00\n",
      "Forward/backward pass size (MB): 0.31\n",
      "Params size (MB): 0.07\n",
      "Estimated Total Size (MB): 0.38\n",
      "----------------------------------------------------------------\n"
     ]
    },
    {
     "name": "stderr",
     "output_type": "stream",
     "text": [
      "C:\\Users\\gunak\\AppData\\Local\\Temp\\ipykernel_162388\\2805262297.py:53: UserWarning: Implicit dimension choice for log_softmax has been deprecated. Change the call to include dim=X as an argument.\n",
      "  return F.log_softmax(x)\n"
     ]
    }
   ],
   "source": [
    "from torchsummary import summary\n",
    "use_cuda = torch.cuda.is_available()\n",
    "device = torch.device(\"cuda\" if use_cuda else \"cpu\")\n",
    "model = Net().to(device)\n",
    "summary(model, input_size=(1, 28, 28))"
   ]
  },
  {
   "cell_type": "code",
   "execution_count": 13,
   "metadata": {},
   "outputs": [],
   "source": [
    "torch.manual_seed(1)\n",
    "batch_size = 128\n",
    "\n",
    "kwargs = {'num_workers': 1, 'pin_memory': True} if use_cuda else {}\n",
    "train_loader = torch.utils.data.DataLoader(\n",
    "    datasets.MNIST('../data', train=True, download=True,\n",
    "                    transform=transforms.Compose([\n",
    "                        transforms.ToTensor(),\n",
    "                        transforms.Normalize((0.1307,), (0.3081,))\n",
    "                    ])),\n",
    "    batch_size=batch_size, shuffle=True, **kwargs)\n",
    "test_loader = torch.utils.data.DataLoader(\n",
    "    datasets.MNIST('../data', train=False, transform=transforms.Compose([\n",
    "                        transforms.ToTensor(),\n",
    "                        transforms.Normalize((0.1307,), (0.3081,))\n",
    "                    ])),\n",
    "    batch_size=batch_size, shuffle=True, **kwargs)"
   ]
  },
  {
   "cell_type": "code",
   "execution_count": 14,
   "metadata": {},
   "outputs": [],
   "source": [
    "from tqdm import tqdm\n",
    "def train(model, device, train_loader, optimizer, epoch):\n",
    "    model.train()\n",
    "    pbar = tqdm(train_loader)\n",
    "    for batch_idx, (data, target) in enumerate(pbar):\n",
    "        data, target = data.to(device), target.to(device)\n",
    "        optimizer.zero_grad()\n",
    "        output = model(data)\n",
    "        loss = F.nll_loss(output, target)\n",
    "        loss.backward()\n",
    "        optimizer.step()\n",
    "        pbar.set_description(desc= f'loss={loss.item()} batch_id={batch_idx}')\n",
    "\n",
    "\n",
    "def test(model, device, test_loader):\n",
    "    model.eval()\n",
    "    test_loss = 0\n",
    "    correct = 0\n",
    "    with torch.no_grad():\n",
    "        for data, target in test_loader:\n",
    "            data, target = data.to(device), target.to(device)\n",
    "            output = model(data)\n",
    "            test_loss += F.nll_loss(output, target, reduction='sum').item()  # sum up batch loss\n",
    "            pred = output.argmax(dim=1, keepdim=True)  # get the index of the max log-probability\n",
    "            correct += pred.eq(target.view_as(pred)).sum().item()\n",
    "\n",
    "    test_loss /= len(test_loader.dataset)\n",
    "\n",
    "    print('\\nTest set: Average loss: {:.4f}, Accuracy: {}/{} ({:.3f}%)\\n'.format(\n",
    "        test_loss, correct, len(test_loader.dataset),\n",
    "        100. * correct / len(test_loader.dataset)))"
   ]
  },
  {
   "cell_type": "code",
   "execution_count": 21,
   "metadata": {},
   "outputs": [
    {
     "name": "stdout",
     "output_type": "stream",
     "text": [
      "EPOCH: 1\n"
     ]
    },
    {
     "name": "stderr",
     "output_type": "stream",
     "text": [
      "  0%|          | 0/469 [00:00<?, ?it/s]C:\\Users\\gunak\\AppData\\Local\\Temp\\ipykernel_162388\\2805262297.py:53: UserWarning: Implicit dimension choice for log_softmax has been deprecated. Change the call to include dim=X as an argument.\n",
      "  return F.log_softmax(x)\n",
      "loss=0.12137123942375183 batch_id=468: 100%|██████████| 469/469 [01:57<00:00,  3.98it/s] \n"
     ]
    },
    {
     "name": "stdout",
     "output_type": "stream",
     "text": [
      "\n",
      "Test set: Average loss: 0.0796, Accuracy: 9773/10000 (97.730%)\n",
      "\n",
      "EPOCH: 2\n"
     ]
    },
    {
     "name": "stderr",
     "output_type": "stream",
     "text": [
      "loss=0.01464408915489912 batch_id=468: 100%|██████████| 469/469 [02:02<00:00,  3.82it/s] \n"
     ]
    },
    {
     "name": "stdout",
     "output_type": "stream",
     "text": [
      "\n",
      "Test set: Average loss: 0.0486, Accuracy: 9855/10000 (98.550%)\n",
      "\n",
      "EPOCH: 3\n"
     ]
    },
    {
     "name": "stderr",
     "output_type": "stream",
     "text": [
      "loss=0.04256090521812439 batch_id=468: 100%|██████████| 469/469 [01:11<00:00,  6.56it/s] \n"
     ]
    },
    {
     "name": "stdout",
     "output_type": "stream",
     "text": [
      "\n",
      "Test set: Average loss: 0.0432, Accuracy: 9859/10000 (98.590%)\n",
      "\n",
      "EPOCH: 4\n"
     ]
    },
    {
     "name": "stderr",
     "output_type": "stream",
     "text": [
      "loss=0.03434351086616516 batch_id=468: 100%|██████████| 469/469 [01:13<00:00,  6.35it/s] \n"
     ]
    },
    {
     "name": "stdout",
     "output_type": "stream",
     "text": [
      "\n",
      "Test set: Average loss: 0.0378, Accuracy: 9874/10000 (98.740%)\n",
      "\n",
      "EPOCH: 5\n"
     ]
    },
    {
     "name": "stderr",
     "output_type": "stream",
     "text": [
      "loss=0.038388222455978394 batch_id=468: 100%|██████████| 469/469 [01:11<00:00,  6.52it/s]\n"
     ]
    },
    {
     "name": "stdout",
     "output_type": "stream",
     "text": [
      "\n",
      "Test set: Average loss: 0.0323, Accuracy: 9895/10000 (98.950%)\n",
      "\n",
      "EPOCH: 6\n"
     ]
    },
    {
     "name": "stderr",
     "output_type": "stream",
     "text": [
      "loss=0.03663952648639679 batch_id=468: 100%|██████████| 469/469 [01:03<00:00,  7.34it/s]  \n"
     ]
    },
    {
     "name": "stdout",
     "output_type": "stream",
     "text": [
      "\n",
      "Test set: Average loss: 0.0424, Accuracy: 9883/10000 (98.830%)\n",
      "\n",
      "EPOCH: 7\n"
     ]
    },
    {
     "name": "stderr",
     "output_type": "stream",
     "text": [
      "loss=0.05304689332842827 batch_id=468: 100%|██████████| 469/469 [01:04<00:00,  7.31it/s]  \n"
     ]
    },
    {
     "name": "stdout",
     "output_type": "stream",
     "text": [
      "\n",
      "Test set: Average loss: 0.0437, Accuracy: 9853/10000 (98.530%)\n",
      "\n",
      "EPOCH: 8\n"
     ]
    },
    {
     "name": "stderr",
     "output_type": "stream",
     "text": [
      "loss=0.04230743646621704 batch_id=468: 100%|██████████| 469/469 [01:17<00:00,  6.03it/s] \n"
     ]
    },
    {
     "name": "stdout",
     "output_type": "stream",
     "text": [
      "\n",
      "Test set: Average loss: 0.0335, Accuracy: 9891/10000 (98.910%)\n",
      "\n",
      "EPOCH: 9\n"
     ]
    },
    {
     "name": "stderr",
     "output_type": "stream",
     "text": [
      "loss=0.01612306758761406 batch_id=468: 100%|██████████| 469/469 [01:12<00:00,  6.51it/s]  \n"
     ]
    },
    {
     "name": "stdout",
     "output_type": "stream",
     "text": [
      "\n",
      "Test set: Average loss: 0.0341, Accuracy: 9892/10000 (98.920%)\n",
      "\n",
      "EPOCH: 10\n"
     ]
    },
    {
     "name": "stderr",
     "output_type": "stream",
     "text": [
      "loss=0.010418861173093319 batch_id=468: 100%|██████████| 469/469 [01:04<00:00,  7.31it/s] \n"
     ]
    },
    {
     "name": "stdout",
     "output_type": "stream",
     "text": [
      "\n",
      "Test set: Average loss: 0.0316, Accuracy: 9891/10000 (98.910%)\n",
      "\n",
      "EPOCH: 11\n"
     ]
    },
    {
     "name": "stderr",
     "output_type": "stream",
     "text": [
      "loss=0.016080547124147415 batch_id=468: 100%|██████████| 469/469 [01:13<00:00,  6.37it/s] \n"
     ]
    },
    {
     "name": "stdout",
     "output_type": "stream",
     "text": [
      "\n",
      "Test set: Average loss: 0.0275, Accuracy: 9912/10000 (99.120%)\n",
      "\n",
      "EPOCH: 12\n"
     ]
    },
    {
     "name": "stderr",
     "output_type": "stream",
     "text": [
      "loss=0.04451419785618782 batch_id=468: 100%|██████████| 469/469 [01:39<00:00,  4.73it/s]  \n"
     ]
    },
    {
     "name": "stdout",
     "output_type": "stream",
     "text": [
      "\n",
      "Test set: Average loss: 0.0297, Accuracy: 9898/10000 (98.980%)\n",
      "\n",
      "EPOCH: 13\n"
     ]
    },
    {
     "name": "stderr",
     "output_type": "stream",
     "text": [
      "loss=0.08432846516370773 batch_id=468: 100%|██████████| 469/469 [01:36<00:00,  4.85it/s]  \n"
     ]
    },
    {
     "name": "stdout",
     "output_type": "stream",
     "text": [
      "\n",
      "Test set: Average loss: 0.0296, Accuracy: 9915/10000 (99.150%)\n",
      "\n",
      "EPOCH: 14\n"
     ]
    },
    {
     "name": "stderr",
     "output_type": "stream",
     "text": [
      "loss=0.012007934041321278 batch_id=468: 100%|██████████| 469/469 [01:33<00:00,  5.03it/s] \n"
     ]
    },
    {
     "name": "stdout",
     "output_type": "stream",
     "text": [
      "\n",
      "Test set: Average loss: 0.0328, Accuracy: 9896/10000 (98.960%)\n",
      "\n",
      "EPOCH: 15\n"
     ]
    },
    {
     "name": "stderr",
     "output_type": "stream",
     "text": [
      "loss=0.06540613621473312 batch_id=468: 100%|██████████| 469/469 [01:14<00:00,  6.29it/s]  \n"
     ]
    },
    {
     "name": "stdout",
     "output_type": "stream",
     "text": [
      "\n",
      "Test set: Average loss: 0.0266, Accuracy: 9922/10000 (99.220%)\n",
      "\n",
      "EPOCH: 16\n"
     ]
    },
    {
     "name": "stderr",
     "output_type": "stream",
     "text": [
      "loss=0.009200171567499638 batch_id=468: 100%|██████████| 469/469 [01:17<00:00,  6.02it/s] \n"
     ]
    },
    {
     "name": "stdout",
     "output_type": "stream",
     "text": [
      "\n",
      "Test set: Average loss: 0.0291, Accuracy: 9919/10000 (99.190%)\n",
      "\n",
      "EPOCH: 17\n"
     ]
    },
    {
     "name": "stderr",
     "output_type": "stream",
     "text": [
      "loss=0.001987966476008296 batch_id=468: 100%|██████████| 469/469 [01:15<00:00,  6.20it/s] \n"
     ]
    },
    {
     "name": "stdout",
     "output_type": "stream",
     "text": [
      "\n",
      "Test set: Average loss: 0.0279, Accuracy: 9911/10000 (99.110%)\n",
      "\n",
      "EPOCH: 18\n"
     ]
    },
    {
     "name": "stderr",
     "output_type": "stream",
     "text": [
      "loss=0.07692638784646988 batch_id=468: 100%|██████████| 469/469 [01:11<00:00,  6.61it/s]  \n"
     ]
    },
    {
     "name": "stdout",
     "output_type": "stream",
     "text": [
      "\n",
      "Test set: Average loss: 0.0245, Accuracy: 9922/10000 (99.220%)\n",
      "\n",
      "EPOCH: 19\n"
     ]
    },
    {
     "name": "stderr",
     "output_type": "stream",
     "text": [
      "loss=0.17903770506381989 batch_id=468: 100%|██████████| 469/469 [01:10<00:00,  6.65it/s]  \n"
     ]
    },
    {
     "name": "stdout",
     "output_type": "stream",
     "text": [
      "\n",
      "Test set: Average loss: 0.0252, Accuracy: 9915/10000 (99.150%)\n",
      "\n",
      "EPOCH: 20\n"
     ]
    },
    {
     "name": "stderr",
     "output_type": "stream",
     "text": [
      "loss=0.007352722343057394 batch_id=468: 100%|██████████| 469/469 [01:15<00:00,  6.23it/s] \n"
     ]
    },
    {
     "name": "stdout",
     "output_type": "stream",
     "text": [
      "\n",
      "Test set: Average loss: 0.0262, Accuracy: 9920/10000 (99.200%)\n",
      "\n"
     ]
    }
   ],
   "source": [
    "model = Net().to(device)\n",
    "optimizer = optim.SGD(model.parameters(), lr=0.1, momentum=0.9)\n",
    "scheduler = torch.optim.lr_scheduler.StepLR(optimizer, step_size=1, gamma=0.1)\n",
    "\n",
    "for epoch in range(0, 20):\n",
    "    print(f\"EPOCH: {epoch+1}\")\n",
    "    train(model, device, train_loader, optimizer, epoch)\n",
    "    test(model, device, test_loader)"
   ]
  },
  {
   "cell_type": "code",
   "execution_count": 8,
   "metadata": {},
   "outputs": [
    {
     "name": "stdout",
     "output_type": "stream",
     "text": [
      "----------------------------------------------------------------\n",
      "        Layer (type)               Output Shape         Param #\n",
      "================================================================\n",
      "            Conv2d-1            [-1, 8, 28, 28]              72\n",
      "       BatchNorm2d-2            [-1, 8, 28, 28]              16\n",
      "           Dropout-3            [-1, 8, 28, 28]               0\n",
      "         MaxPool2d-4            [-1, 8, 14, 14]               0\n",
      "            Conv2d-5           [-1, 16, 14, 14]           1,152\n",
      "       BatchNorm2d-6           [-1, 16, 14, 14]              32\n",
      "           Dropout-7           [-1, 16, 14, 14]               0\n",
      "         MaxPool2d-8             [-1, 16, 7, 7]               0\n",
      "            Conv2d-9             [-1, 16, 7, 7]           2,304\n",
      "      BatchNorm2d-10             [-1, 16, 7, 7]              32\n",
      "          Dropout-11             [-1, 16, 7, 7]               0\n",
      "           Conv2d-12             [-1, 32, 7, 7]           4,608\n",
      "      BatchNorm2d-13             [-1, 32, 7, 7]              64\n",
      "          Dropout-14             [-1, 32, 7, 7]               0\n",
      "           Conv2d-15             [-1, 16, 7, 7]           4,608\n",
      "      BatchNorm2d-16             [-1, 16, 7, 7]              32\n",
      "          Dropout-17             [-1, 16, 7, 7]               0\n",
      "           Conv2d-18             [-1, 10, 7, 7]             160\n",
      "           Conv2d-19             [-1, 10, 1, 1]           4,900\n",
      "================================================================\n",
      "Total params: 17,980\n",
      "Trainable params: 17,980\n",
      "Non-trainable params: 0\n",
      "----------------------------------------------------------------\n",
      "Input size (MB): 0.00\n",
      "Forward/backward pass size (MB): 0.31\n",
      "Params size (MB): 0.07\n",
      "Estimated Total Size (MB): 0.38\n",
      "----------------------------------------------------------------\n"
     ]
    },
    {
     "name": "stderr",
     "output_type": "stream",
     "text": [
      "C:\\Users\\gunak\\AppData\\Local\\Temp\\ipykernel_162388\\3710516435.py:54: UserWarning: Implicit dimension choice for log_softmax has been deprecated. Change the call to include dim=X as an argument.\n",
      "  return F.log_softmax(x)\n"
     ]
    }
   ],
   "source": [
    "# !pip install torchsummary\n",
    "from torchsummary import summary\n",
    "use_cuda = torch.cuda.is_available()\n",
    "device = torch.device(\"cuda\" if use_cuda else \"cpu\")\n",
    "model = Net().to(device)\n",
    "summary(model, input_size=(1, 28, 28))"
   ]
  }
 ],
 "metadata": {
  "kernelspec": {
   "display_name": "Python 3",
   "language": "python",
   "name": "python3"
  },
  "language_info": {
   "codemirror_mode": {
    "name": "ipython",
    "version": 3
   },
   "file_extension": ".py",
   "mimetype": "text/x-python",
   "name": "python",
   "nbconvert_exporter": "python",
   "pygments_lexer": "ipython3",
   "version": "3.10.7"
  },
  "orig_nbformat": 4
 },
 "nbformat": 4,
 "nbformat_minor": 2
}
